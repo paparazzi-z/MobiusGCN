{
 "cells": [
  {
   "cell_type": "code",
   "execution_count": 1,
   "metadata": {},
   "outputs": [],
   "source": [
    "import numpy as np\n",
    "import torch\n",
    "from PIL import Image\n",
    "import random \n",
    "from scipy.ndimage import geometric_transform, map_coordinates\n",
    "from numpy import *\n",
    "from random import random\n",
    "#np.random.seed(0)\n"
   ]
  },
  {
   "cell_type": "code",
   "execution_count": 17,
   "metadata": {},
   "outputs": [
    {
     "name": "stdout",
     "output_type": "stream",
     "text": [
      "float64\n",
      "(2.9469275239771457-0.18896522998941503j)\n",
      "(0.7477181976208265+3.856397563662931j)\n",
      "(4.452565899143067-8.6752526174869j)\n"
     ]
    }
   ],
   "source": [
    "height = 3\n",
    "width = 3\n",
    "zp=[complex(height*random(),width*random()), complex(height*random(),width*random()),complex(height*random(),width*random())]; \n",
    "wa=[complex(height*random(),width*random()), complex(height*random(),width*random()),complex(height*random(),width*random())];\n",
    "a = np.linalg.det([[zp[0]*wa[0], wa[0], 1], \n",
    "                [zp[1]*wa[1], wa[1], 1], \n",
    "                [zp[2]*wa[2], wa[2], 1]]);\n",
    "b = np.linalg.det([[zp[0]*wa[0], zp[0], wa[0]], \n",
    "                [zp[1]*wa[1], zp[1], wa[1]], \n",
    "                [zp[2]*wa[2], zp[2], wa[2]]]);  \n",
    "\n",
    "c = np.linalg.det([[zp[0], wa[0], 1], \n",
    "                [zp[1], wa[1], 1], \n",
    "                [zp[2], wa[2], 1]]);\n",
    "\n",
    "d = np.linalg.det([[zp[0]*wa[0], zp[0], 1], \n",
    "                [zp[1]*wa[1], zp[1], 1], \n",
    "                [zp[2]*wa[2], zp[2], 1]]);\n",
    "\n",
    "a_real = np.float32(np.real(a))\n",
    "\n",
    "print(np.real(a).dtype)\n",
    "print(b)\n",
    "print(c)\n",
    "print(d)"
   ]
  },
  {
   "cell_type": "code",
   "execution_count": 11,
   "metadata": {},
   "outputs": [],
   "source": [
    "def complex_compute(com1, com2):\n",
    "    com1_real = com1[0]\n",
    "    com1_imag = com1[1]\n",
    "    com2_real = com2[0]\n",
    "    com2_imag = com2[1]\n",
    "    \n",
    "    out_real = torch.matmul(com1_real, com2_real) - torch.matmul(com1_imag, com2_imag)\n",
    "    out_imag = torch.matmul(com1_imag, com2_real) + torch.matmul(com1_real, com2_imag)\n",
    "    out = torch.stack((out_real, out_imag), 0)\n",
    "    \n",
    "    return out"
   ]
  },
  {
   "cell_type": "code",
   "execution_count": 4,
   "metadata": {},
   "outputs": [],
   "source": [
    "a = torch.randn(size = (2,3,3), dtype=torch.float)\n",
    "b = torch.randn(size = (2,3,3), dtype=torch.float)"
   ]
  },
  {
   "cell_type": "code",
   "execution_count": 5,
   "metadata": {},
   "outputs": [
    {
     "name": "stdout",
     "output_type": "stream",
     "text": [
      "tensor([[[ 3.7483e-02, -6.6957e-01,  1.4205e-02],\n",
      "         [-6.3416e-01,  3.4581e-02,  1.1539e+00],\n",
      "         [ 2.3217e-02, -5.4862e-01,  1.8629e+00]],\n",
      "\n",
      "        [[-5.3212e-01, -3.8157e-01, -5.6186e-01],\n",
      "         [ 7.7225e-01,  1.2047e+00, -1.7282e-03],\n",
      "         [ 1.8412e+00,  2.5336e-01,  2.1684e-01]]])\n"
     ]
    }
   ],
   "source": [
    "print(a)"
   ]
  },
  {
   "cell_type": "code",
   "execution_count": 6,
   "metadata": {},
   "outputs": [
    {
     "name": "stdout",
     "output_type": "stream",
     "text": [
      "tensor([[[ 2.1381, -0.0825,  1.3588],\n",
      "         [-0.9617, -1.2261, -0.0280],\n",
      "         [-1.4158,  0.0698,  0.4833]],\n",
      "\n",
      "        [[ 1.1417,  1.9023, -1.7900],\n",
      "         [-2.3080,  0.2272,  1.1128],\n",
      "         [ 0.0384, -0.5719, -1.0426]]])\n"
     ]
    }
   ],
   "source": [
    "print(b)"
   ]
  },
  {
   "cell_type": "code",
   "execution_count": 12,
   "metadata": {},
   "outputs": [],
   "source": [
    "c = complex_compute(a, b)"
   ]
  },
  {
   "cell_type": "code",
   "execution_count": 13,
   "metadata": {},
   "outputs": [
    {
     "name": "stdout",
     "output_type": "stream",
     "text": [
      "tensor([[[ 0.4524,  1.5964, -1.0371],\n",
      "         [-1.1241, -1.6532, -0.2652],\n",
      "         [-3.5860, -2.6351,  4.1870]],\n",
      "\n",
      "        [[ 1.6134,  0.3836, -1.8109],\n",
      "         [-0.2645, -3.3994,  0.9855],\n",
      "         [ 4.7502, -1.5933,  0.0053]]])\n"
     ]
    }
   ],
   "source": [
    "print(c)"
   ]
  },
  {
   "cell_type": "code",
   "execution_count": 14,
   "metadata": {},
   "outputs": [
    {
     "name": "stdout",
     "output_type": "stream",
     "text": [
      "torch.float32\n"
     ]
    }
   ],
   "source": [
    "print(c.dtype)"
   ]
  },
  {
   "cell_type": "code",
   "execution_count": 19,
   "metadata": {},
   "outputs": [
    {
     "ename": "AttributeError",
     "evalue": "'float' object has no attribute 'float'",
     "output_type": "error",
     "traceback": [
      "\u001b[0;31m---------------------------------------------------------------------------\u001b[0m",
      "\u001b[0;31mAttributeError\u001b[0m                            Traceback (most recent call last)",
      "\u001b[0;32m<ipython-input-19-08712a238f0c>\u001b[0m in \u001b[0;36m<module>\u001b[0;34m\u001b[0m\n\u001b[0;32m----> 1\u001b[0;31m \u001b[0mqqq\u001b[0m \u001b[0;34m=\u001b[0m \u001b[0mrandom\u001b[0m\u001b[0;34m(\u001b[0m\u001b[0;34m)\u001b[0m\u001b[0;34m.\u001b[0m\u001b[0mfloat\u001b[0m\u001b[0;34m(\u001b[0m\u001b[0;34m)\u001b[0m\u001b[0;34m\u001b[0m\u001b[0;34m\u001b[0m\u001b[0m\n\u001b[0m\u001b[1;32m      2\u001b[0m \u001b[0mprint\u001b[0m\u001b[0;34m(\u001b[0m\u001b[0mqqq\u001b[0m\u001b[0;34m)\u001b[0m\u001b[0;34m\u001b[0m\u001b[0;34m\u001b[0m\u001b[0m\n",
      "\u001b[0;31mAttributeError\u001b[0m: 'float' object has no attribute 'float'"
     ]
    }
   ],
   "source": [
    "qqq = random().float()\n",
    "print(qqq)"
   ]
  },
  {
   "cell_type": "code",
   "execution_count": null,
   "metadata": {},
   "outputs": [],
   "source": []
  }
 ],
 "metadata": {
  "kernelspec": {
   "display_name": "Python 3",
   "language": "python",
   "name": "python3"
  },
  "language_info": {
   "codemirror_mode": {
    "name": "ipython",
    "version": 3
   },
   "file_extension": ".py",
   "mimetype": "text/x-python",
   "name": "python",
   "nbconvert_exporter": "python",
   "pygments_lexer": "ipython3",
   "version": "3.8.10"
  }
 },
 "nbformat": 4,
 "nbformat_minor": 4
}
